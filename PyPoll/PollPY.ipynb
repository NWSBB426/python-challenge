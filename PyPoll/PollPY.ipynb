{
 "cells": [
  {
   "cell_type": "code",
   "execution_count": 31,
   "id": "6d5b863a-ea6f-4990-bb86-fa9cb6d63bc5",
   "metadata": {
    "tags": []
   },
   "outputs": [],
   "source": [
    "import os\n",
    "import csv"
   ]
  },
  {
   "cell_type": "code",
   "execution_count": 32,
   "id": "6b7cd080-e7cc-4945-8525-3097cffabf75",
   "metadata": {
    "tags": []
   },
   "outputs": [],
   "source": [
    "# Path to collect data from the Resources folder\n",
    "election_data_csv = os.path.join('Resources', 'election_data.csv')"
   ]
  },
  {
   "cell_type": "code",
   "execution_count": 33,
   "id": "cf92d0f5-3e7b-488b-af29-62fe81bec566",
   "metadata": {
    "tags": []
   },
   "outputs": [
    {
     "name": "stdout",
     "output_type": "stream",
     "text": [
      "{'Charles Casper Stockham': 85213, 'Diana DeGette': 272892, 'Raymon Anthony Doane': 11606}\n"
     ]
    }
   ],
   "source": [
    "\n",
    "election_results = {}\n",
    "with open(election_data_csv, 'r') as csvfile:\n",
    "\n",
    "    # Split the data on commas\n",
    "    csvreader = csv.reader(csvfile, delimiter=',')\n",
    "    header = next(csvreader)\n",
    "    \n",
    "\n",
    "    # Loop through the data\n",
    "    for row in csvreader:\n",
    "        vote = row[2] \n",
    "        if vote in election_results.keys(): \n",
    "            election_results[vote]=election_results[vote] +1\n",
    "        \n",
    "        else:\n",
    "            election_results[vote]= 1\n",
    "            \n",
    "        \n",
    "          \n",
    "    \n",
    "print(election_results)\n"
   ]
  },
  {
   "cell_type": "code",
   "execution_count": null,
   "id": "097cce5d-ad08-4203-8ad2-450df531657b",
   "metadata": {},
   "outputs": [],
   "source": []
  },
  {
   "cell_type": "code",
   "execution_count": null,
   "id": "96f9c391-7d7c-4d49-b097-ca835148efc8",
   "metadata": {},
   "outputs": [],
   "source": []
  }
 ],
 "metadata": {
  "kernelspec": {
   "display_name": "Python 3 (ipykernel)",
   "language": "python",
   "name": "python3"
  },
  "language_info": {
   "codemirror_mode": {
    "name": "ipython",
    "version": 3
   },
   "file_extension": ".py",
   "mimetype": "text/x-python",
   "name": "python",
   "nbconvert_exporter": "python",
   "pygments_lexer": "ipython3",
   "version": "3.11.4"
  }
 },
 "nbformat": 4,
 "nbformat_minor": 5
}
